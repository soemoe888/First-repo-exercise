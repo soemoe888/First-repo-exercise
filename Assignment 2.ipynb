{
 "cells": [
  {
   "cell_type": "markdown",
   "id": "7910d462-5798-425a-9534-fd0dfdfcf351",
   "metadata": {},
   "source": [
    "# Assignment2"
   ]
  },
  {
   "cell_type": "markdown",
   "id": "6fa4f157-003f-40c4-8867-1de0b93f7b97",
   "metadata": {},
   "source": [
    "10 February 2025"
   ]
  },
  {
   "cell_type": "markdown",
   "id": "66e3d970-5155-4ddf-98f5-bc78f3b41bf9",
   "metadata": {},
   "source": [
    "## Aung Soe Moe"
   ]
  },
  {
   "cell_type": "markdown",
   "id": "a9f5fd01-b48c-4840-9d5b-d82f4673eb50",
   "metadata": {},
   "source": [
    "(1) Define two variables  and assign them values of 100 and 29. After this, make the interpreter sum up the two numbers and multiply their result by 3.  \n",
    "Calculate the 2nd exponent of the previous number and save it to a new variable.  \n",
    "Make the program print the result in the following way:  \n",
    "The result of the calculation was:  \n",
    "149769  \n",
    "Make sure you use valid variable names and name your variables meanfully.  \n",
    "Make sure that output of your program has indentation as shown in the above example."
   ]
  },
  {
   "cell_type": "code",
   "execution_count": 75,
   "id": "ffb97db6-1ede-4c2b-ae68-b1b9efa2a1d7",
   "metadata": {},
   "outputs": [
    {
     "name": "stdout",
     "output_type": "stream",
     "text": [
      "The result of the calculation is :149769\n"
     ]
    }
   ],
   "source": [
    "# Define variables and assign\n",
    "first_number = 100  \n",
    "second_number = 29\n",
    "\n",
    "# Sum the numbers and multiply by 3\n",
    "sum_result = (first_number + second_number) * 3\n",
    "\n",
    "#Calculate the 2nd exponent of the result\n",
    "final_result = sum_result ** 2\n",
    "\n",
    "# Print the result\n",
    "print(f\"The result of the calculation is :{final_result}\")"
   ]
  },
  {
   "cell_type": "markdown",
   "id": "68b7ce6f-9f1e-424e-9358-3b9c50a2ac74",
   "metadata": {},
   "source": [
    "------------------------------------------------------------------------------"
   ]
  },
  {
   "cell_type": "markdown",
   "id": "fbce96a0-2d22-4b5a-ab06-c365794cde10",
   "metadata": {},
   "source": [
    "(2) Write a program that creates a password by asking the user to input their name, age , year of birth. Save all in separate variables using the right type for each of them. Program should create the password in following way: takes last two digits of year of birth, first 3 letters from name, and the 2nd power of the age according to the example below:  \n",
    "Name: John  \n",
    "Year of birth: 1995  \n",
    "Age: 26  \n",
    "Password: 95Joh676  \n",
    "Hint: to get the desired output in print() all variables has to be tyep str."
   ]
  },
  {
   "cell_type": "code",
   "execution_count": 78,
   "id": "88698ef0-0526-4702-8e9d-0552fa2ee842",
   "metadata": {},
   "outputs": [
    {
     "name": "stdin",
     "output_type": "stream",
     "text": [
      "Enter your name:  John\n",
      "Year of birth:  1995\n",
      "Enter your age:  26\n"
     ]
    },
    {
     "name": "stdout",
     "output_type": "stream",
     "text": [
      "Your password is:  95Joh676\n"
     ]
    }
   ],
   "source": [
    "# Get uer input\n",
    "name = input(\"Enter your name: \")\n",
    "year_of_birth = int(input(\"Year of birth: \"))\n",
    "age = int(input(\"Enter your age: \"))\n",
    "\n",
    "# Take last 2 digits of year of birth\n",
    "last_two_digits = str(year_of_birth % 100)\n",
    "\n",
    "# Take first 3 letters from name\n",
    "first_three_letters = name[:3]\n",
    "\n",
    "# Calculate the 2nd power of age\n",
    "age_squared = str(age ** 2)\n",
    "\n",
    "#Create password\n",
    "password = last_two_digits + first_three_letters + age_squared\n",
    "\n",
    "#print password\n",
    "print(\"Your password is: \", password)"
   ]
  },
  {
   "cell_type": "markdown",
   "id": "ac7b5039-ec28-4f8e-87b4-2a3bf50239ff",
   "metadata": {},
   "source": [
    "---------------------------------------"
   ]
  },
  {
   "cell_type": "markdown",
   "id": "38a49eb0-6718-4878-aa88-acc4d656a8d9",
   "metadata": {},
   "source": [
    "(3) Write a program that asks for two numbers. If both numbers are even, the program print \"Both numbers are even.\" If only one of the numbers is even, the program prints \"One of the number is even.\". Finally, if neither of the number is even, the program prints \"Both numbers are odd\".  \n",
    "First number:5  \n",
    "Second number:6  \n",
    "One of the number is even"
   ]
  },
  {
   "cell_type": "code",
   "execution_count": 81,
   "id": "a42e34f1-2e0c-44a5-89f2-d14803b14906",
   "metadata": {},
   "outputs": [
    {
     "name": "stdin",
     "output_type": "stream",
     "text": [
      "Enter first number:  32\n",
      "Enter second number:  55\n"
     ]
    },
    {
     "name": "stdout",
     "output_type": "stream",
     "text": [
      "One of the number is even.\n"
     ]
    }
   ],
   "source": [
    "#Ask the 2 number from user\n",
    "num1 = int(input(\"Enter first number: \"))\n",
    "num2 = int(input(\"Enter second number: \"))\n",
    "\n",
    "#Check if the both numbers are even\n",
    "if num1 % 2 == 0 and num2 % 2 == 0:\n",
    "    print(\"Both number are even.\")\n",
    "\n",
    "#Check if only one of the numbers is even\n",
    "elif num1 % 2 == 0 or num2 % 2 == 0:\n",
    "    print(\"One of the number is even.\")\n",
    "\n",
    "#Check if neither of the number is even, both numbers are odd\n",
    "else:\n",
    "    print(\"Both number are odd\")"
   ]
  },
  {
   "cell_type": "markdown",
   "id": "4abdce5c-5623-4ccd-8506-fa1e2fee4745",
   "metadata": {},
   "source": [
    "---"
   ]
  },
  {
   "cell_type": "markdown",
   "id": "05c2398a-abc1-4387-a948-7620313cb399",
   "metadata": {},
   "source": [
    "(4) Create a program, which asks the user for a number, and calculates the sum of all positive numbers from 0 to the user given input.  \n",
    "If the user gives the number 4, the program calculates the sum 0+1+2+3, if 7, the calculation is 0+1+2+3+4+5+6  \n",
    "Program opertates as below:  \n",
    "Give an integer: 5  \n",
    "The sum was: 10"
   ]
  },
  {
   "cell_type": "code",
   "execution_count": 84,
   "id": "18a52c0a-5198-4e7d-b37e-0a94d60ef97d",
   "metadata": {},
   "outputs": [
    {
     "name": "stdin",
     "output_type": "stream",
     "text": [
      "Give an integer:  150\n"
     ]
    },
    {
     "name": "stdout",
     "output_type": "stream",
     "text": [
      "The sum was: 11175\n"
     ]
    }
   ],
   "source": [
    "#Get input from user\n",
    "user_input_number = int(input(\"Give an integer: \"))\n",
    "\n",
    "#Calculate the sum of all positive numbers from 0 to the input number (exclusive of user input number\n",
    "total_sum = sum(range(user_input_number))\n",
    "\n",
    "#Print the result\n",
    "print(\"The sum was:\", total_sum)\n"
   ]
  },
  {
   "cell_type": "markdown",
   "id": "9741a211-7e5d-4408-9896-163fa30ab5c9",
   "metadata": {},
   "source": [
    "---"
   ]
  },
  {
   "cell_type": "markdown",
   "id": "3c906182-b7ad-4a41-a444-5b3034da3247",
   "metadata": {},
   "source": [
    "(5) Create the program that can be used as a guessing game. The game is played by Dealer and Player. Dealer generates a ramdom integer number between 0 and 10. Player has to guess it. The program should take input from Player as long as Player inputs same number as Dealer's input was. Player gets advice to choose greater or small numbers in next choice. Finally, program has to also display the number of tries until the number is gurssed.  \n",
    "Program operates as follow:  \n",
    "Player: 2  \n",
    "Try a greater number.  \n",
    "Player: 7  \n",
    "Try a smaller number.  \n",
    "Playter: 5  \n",
    "That's right! Number of tries: 3  \n",
    "**Hint**: inport random and generate random numbers by using random.randint() in the desired range."
   ]
  },
  {
   "cell_type": "code",
   "execution_count": 97,
   "id": "9cf6dc3b-e5f0-4ef4-ae4d-d5d4745f8894",
   "metadata": {
    "jp-MarkdownHeadingCollapsed": true
   },
   "outputs": [
    {
     "name": "stdout",
     "output_type": "stream",
     "text": [
      "Try to guess the number between 0 and 10\n"
     ]
    },
    {
     "name": "stdin",
     "output_type": "stream",
     "text": [
      "Player:  5\n"
     ]
    },
    {
     "name": "stdout",
     "output_type": "stream",
     "text": [
      "Try a greater number.\n"
     ]
    },
    {
     "name": "stdin",
     "output_type": "stream",
     "text": [
      "Player:  6\n"
     ]
    },
    {
     "name": "stdout",
     "output_type": "stream",
     "text": [
      "Try a greater number.\n"
     ]
    },
    {
     "name": "stdin",
     "output_type": "stream",
     "text": [
      "Player:  7\n"
     ]
    },
    {
     "name": "stdout",
     "output_type": "stream",
     "text": [
      "Try a greater number.\n"
     ]
    },
    {
     "name": "stdin",
     "output_type": "stream",
     "text": [
      "Player:  8\n"
     ]
    },
    {
     "name": "stdout",
     "output_type": "stream",
     "text": [
      "Try a greater number.\n"
     ]
    },
    {
     "name": "stdin",
     "output_type": "stream",
     "text": [
      "Player:  9\n"
     ]
    },
    {
     "name": "stdout",
     "output_type": "stream",
     "text": [
      "That's right! Number of tries: 5\n"
     ]
    }
   ],
   "source": [
    " import random\n",
    "\n",
    "#Dealer generates a random number between 0 and 10\n",
    "dealer_number = random.randint(0, 10)\n",
    "\n",
    "#Initialize the number of tries\n",
    "tries = 0\n",
    "\n",
    "print(\"Try to guess the number between 0 and 10\")\n",
    "\n",
    "#Player keeps guessing until the correct number\n",
    "while True:\n",
    "    #Get the player number\n",
    "    player_guess = int(input(\"Player: \"))\n",
    "    tries += 1\n",
    "\n",
    "#Check if the player guess correct,greater or smaller\n",
    "\n",
    "    if player_guess < dealer_number:\n",
    "        print(\"Try a greater number.\")\n",
    "    elif player_guess > dealer_number:\n",
    "        print(\"Try a smaller number.\")\n",
    "    else:\n",
    "        print(f\"That's right! Number of tries: {tries}\")\n",
    "        break\n"
   ]
  },
  {
   "cell_type": "code",
   "execution_count": null,
   "id": "5c8b4272-5368-4ed0-876b-6d5959adeab8",
   "metadata": {},
   "outputs": [],
   "source": []
  }
 ],
 "metadata": {
  "kernelspec": {
   "display_name": "Python [conda env:base] *",
   "language": "python",
   "name": "conda-base-py"
  },
  "language_info": {
   "codemirror_mode": {
    "name": "ipython",
    "version": 3
   },
   "file_extension": ".py",
   "mimetype": "text/x-python",
   "name": "python",
   "nbconvert_exporter": "python",
   "pygments_lexer": "ipython3",
   "version": "3.12.7"
  }
 },
 "nbformat": 4,
 "nbformat_minor": 5
}
